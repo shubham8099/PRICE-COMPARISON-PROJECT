{
 "cells": [
  {
   "cell_type": "code",
   "execution_count": 1,
   "metadata": {},
   "outputs": [],
   "source": [
    "# Jai maa sarswati"
   ]
  },
  {
   "cell_type": "markdown",
   "metadata": {},
   "source": [
    "# PRICE COMPARISON PROJECT "
   ]
  },
  {
   "cell_type": "code",
   "execution_count": 2,
   "metadata": {},
   "outputs": [],
   "source": [
    "import serpapi"
   ]
  },
  {
   "cell_type": "code",
   "execution_count": 3,
   "metadata": {},
   "outputs": [],
   "source": [
    "\n",
    "params = {\n",
    "  \"engine\": \"google_shopping\",\n",
    "  \"q\": \"Macbook M3\",\n",
    "  \"api_key\": \"8975039bc628760153087b21fefb49e86b763d52e4287129ea8511627cf4b59c\"\n",
    "}\n",
    "\n",
    "search = serpapi.GoogleSearch(params)\n"
   ]
  },
  {
   "cell_type": "code",
   "execution_count": 9,
   "metadata": {},
   "outputs": [],
   "source": [
    "results = search.get_dict()\n",
    "shopping_results = results['shopping_results']"
   ]
  },
  {
   "cell_type": "code",
   "execution_count": 12,
   "metadata": {},
   "outputs": [
    {
     "data": {
      "text/plain": [
       "'$898.00'"
      ]
     },
     "execution_count": 12,
     "metadata": {},
     "output_type": "execute_result"
    }
   ],
   "source": [
    "shopping_results[0].get('price')"
   ]
  },
  {
   "cell_type": "code",
   "execution_count": 14,
   "metadata": {},
   "outputs": [],
   "source": [
    "number = int(input(\"ENTER THE NUMBER PLEASE\"))"
   ]
  },
  {
   "cell_type": "code",
   "execution_count": null,
   "metadata": {},
   "outputs": [
    {
     "name": "stdout",
     "output_type": "stream",
     "text": [
      "$898.00\n"
     ]
    }
   ],
   "source": [
    "lowest_price = shopping_results[0].get('price')\n",
    "print(lowest_price)\n",
    "\"\"\"Here the price is comming in dollow so we use indexing to cut the dollar part and the print the original price\"\"\"\n",
    "lowest_price_index = 0"
   ]
  },
  {
   "cell_type": "code",
   "execution_count": 19,
   "metadata": {},
   "outputs": [
    {
     "name": "stdout",
     "output_type": "stream",
     "text": [
      "898.00\n"
     ]
    }
   ],
   "source": [
    "lowest_price = (shopping_results[0].get('price'))[1:]\n",
    "print(lowest_price)"
   ]
  },
  {
   "cell_type": "code",
   "execution_count": 17,
   "metadata": {},
   "outputs": [
    {
     "name": "stdout",
     "output_type": "stream",
     "text": [
      "0\n",
      "Title Apple 13-inch MacBook Air Apple M3 chip\n",
      "Price $898.00\n",
      "Source PC Richard & Son\n",
      "1\n",
      "Title Apple 13\" MacBook Air (M3, Midnight)\n",
      "Price $989.00\n",
      "Source B&H Photo-Video-Audio\n",
      "2\n",
      "Title 13-inch MacBook Air M3 (2024)\n",
      "Price $899.00\n",
      "Source UCLA Store\n",
      "3\n",
      "Title Apple MacBook Pro M3 Pro Chip\n",
      "Price $1,599.00\n",
      "Source Best Buy\n",
      "4\n",
      "Title Apple MacBook Air M3 chip\n",
      "Price $1,079.10\n",
      "Source University of Florida Bookstore\n",
      "Best Options\n",
      "Title Apple MacBook Air M3 chip\n",
      "Price $1,079.10\n",
      "Source University of Florida Bookstore\n"
     ]
    }
   ],
   "source": [
    "for i in range(number):\n",
    "    print(i)\n",
    "    current_price = shopping_results[i].get('price')\n",
    "    print(\"Title\",shopping_results[i].get('title'))\n",
    "    print(\"Price\",shopping_results[i].get('price'))\n",
    "    print(\"Source\",shopping_results[i].get('source'))\n",
    "    if (current_price<lowest_price):\n",
    "        lowest_price = current_price\n",
    "        lowest_price_index=i\n",
    "print(\"Best Options\")\n",
    "print(\"Title\",shopping_results[lowest_price_index].get('title'))\n",
    "print(\"Price\",shopping_results[lowest_price_index].get('price'))\n",
    "print(\"Source\",shopping_results[lowest_price_index].get('source'))\n"
   ]
  },
  {
   "cell_type": "code",
   "execution_count": null,
   "metadata": {},
   "outputs": [],
   "source": []
  },
  {
   "cell_type": "code",
   "execution_count": null,
   "metadata": {},
   "outputs": [],
   "source": []
  },
  {
   "cell_type": "code",
   "execution_count": null,
   "metadata": {},
   "outputs": [],
   "source": []
  },
  {
   "cell_type": "code",
   "execution_count": null,
   "metadata": {},
   "outputs": [],
   "source": []
  },
  {
   "cell_type": "code",
   "execution_count": null,
   "metadata": {},
   "outputs": [],
   "source": []
  },
  {
   "cell_type": "code",
   "execution_count": null,
   "metadata": {},
   "outputs": [],
   "source": []
  },
  {
   "cell_type": "code",
   "execution_count": null,
   "metadata": {},
   "outputs": [],
   "source": []
  },
  {
   "cell_type": "code",
   "execution_count": null,
   "metadata": {},
   "outputs": [],
   "source": []
  },
  {
   "cell_type": "code",
   "execution_count": null,
   "metadata": {},
   "outputs": [],
   "source": []
  }
 ],
 "metadata": {
  "kernelspec": {
   "display_name": "base",
   "language": "python",
   "name": "python3"
  },
  "language_info": {
   "codemirror_mode": {
    "name": "ipython",
    "version": 3
   },
   "file_extension": ".py",
   "mimetype": "text/x-python",
   "name": "python",
   "nbconvert_exporter": "python",
   "pygments_lexer": "ipython3",
   "version": "3.12.7"
  }
 },
 "nbformat": 4,
 "nbformat_minor": 2
}
